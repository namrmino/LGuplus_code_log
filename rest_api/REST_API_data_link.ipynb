{
  "nbformat": 4,
  "nbformat_minor": 0,
  "metadata": {
    "colab": {
      "name": "REST_API_data_link",
      "provenance": [],
      "collapsed_sections": [],
      "mount_file_id": "1IxkaNTKCNfMkMovLLl290nMf3Y_4Ham0",
      "authorship_tag": "ABX9TyNANu2qSX/Nmofkb5ceUkWQ"
    },
    "kernelspec": {
      "name": "python3",
      "display_name": "Python 3"
    },
    "language_info": {
      "name": "python"
    }
  },
  "cells": [
    {
      "cell_type": "markdown",
      "metadata": {
        "id": "7rATgshzxUG_"
      },
      "source": [
        "REST 및 REST api 개념 정리\n",
        "\n",
        "(URL) https://meetup.toast.com/posts/92\n",
        "\n",
        "(URL) https://gmlwjd9405.github.io/2018/09/21/rest-and-restful.html\n",
        "\n",
        "(URL) https://bcho.tistory.com/953"
      ]
    },
    {
      "cell_type": "code",
      "metadata": {
        "id": "hK2ohyU1ZV8w"
      },
      "source": [
        "url = '~~~url 주소~~~'"
      ],
      "execution_count": 1,
      "outputs": []
    },
    {
      "cell_type": "code",
      "metadata": {
        "id": "aTMslYJ7JrcA"
      },
      "source": [
        "import urllib.request\n",
        "\n",
        "response = urllib.request.urlopen(url)"
      ],
      "execution_count": null,
      "outputs": []
    },
    {
      "cell_type": "code",
      "metadata": {
        "id": "K1lZRbhXJsOG"
      },
      "source": [
        "json_str = response.read().decode('utf-8')"
      ],
      "execution_count": null,
      "outputs": []
    },
    {
      "cell_type": "code",
      "metadata": {
        "id": "dnvrtemp6RKo"
      },
      "source": [
        "print(json_str)"
      ],
      "execution_count": null,
      "outputs": []
    },
    {
      "cell_type": "code",
      "metadata": {
        "id": "JfIRNHll6RQo"
      },
      "source": [
        "# parse a JSON string using json.loads() method : returns a dictionary\n",
        "\n",
        "import json\n",
        "import urllib\n",
        "import pandas as pd\n",
        "\n",
        "\n",
        "# API request to the URL\n",
        "\n",
        "import sys\n",
        "\n",
        "if sys.version_info[0] == 3:\n",
        "  from urllib.request import urlopen # for Python 3.x\n",
        "else:\n",
        "  from urllib import urlopen # for Python 2.x\n",
        "\n",
        "with urlopen('~~~url 주소~~~') as url:\n",
        "  response_json_file = url.read()"
      ],
      "execution_count": null,
      "outputs": []
    },
    {
      "cell_type": "code",
      "metadata": {
        "id": "E0ZekhEq6RVr"
      },
      "source": [
        "# decoding to python object\n",
        "\n",
        "response_json = json.loads(response_json_file.decode('utf-8'))"
      ],
      "execution_count": null,
      "outputs": []
    },
    {
      "cell_type": "code",
      "metadata": {
        "id": "wOzMeqdL6Ra1"
      },
      "source": [
        "response_json.keys()"
      ],
      "execution_count": null,
      "outputs": []
    },
    {
      "cell_type": "code",
      "metadata": {
        "id": "yCMT4JkY6RlC"
      },
      "source": [
        "response_json['indicators'][0]"
      ],
      "execution_count": null,
      "outputs": []
    },
    {
      "cell_type": "code",
      "metadata": {
        "id": "rZPBhPVo6Rfz"
      },
      "source": [
        "response_json['indicators'][0].keys()"
      ],
      "execution_count": null,
      "outputs": []
    },
    {
      "cell_type": "code",
      "metadata": {
        "id": "1cNXwrew6Rp_"
      },
      "source": [
        "print(json.dumps(response_json['indicators'], indent=4, sort_keys=True))"
      ],
      "execution_count": null,
      "outputs": []
    },
    {
      "cell_type": "code",
      "metadata": {
        "id": "OS40fIMl6Ru5"
      },
      "source": [
        "df_response_json = pd.DataFrame(response_json['indicators'],\n",
        "                                columns = ['sTime','value'])\n",
        "df_response_json"
      ],
      "execution_count": null,
      "outputs": []
    },
    {
      "cell_type": "code",
      "metadata": {
        "id": "Iqy7s8iQ6RzS"
      },
      "source": [
        "df_response_json.info()"
      ],
      "execution_count": null,
      "outputs": []
    },
    {
      "cell_type": "code",
      "metadata": {
        "id": "7qrfXsyG6R4f"
      },
      "source": [
        "df_response_json['sTime'] = df_response_json['sTime'].astype('str')"
      ],
      "execution_count": null,
      "outputs": []
    },
    {
      "cell_type": "code",
      "metadata": {
        "id": "vegmftwO6R9L"
      },
      "source": [
        "for i in range(len(df_response_json['sTime'])):\n",
        "  df_response_json['sTime'][i] = df_response_json['sTime'][i][:10]"
      ],
      "execution_count": null,
      "outputs": []
    },
    {
      "cell_type": "code",
      "metadata": {
        "id": "vAkebe1r6SBm"
      },
      "source": [
        "df_response_json['sTime'] = df_response_json['sTime'].astype('int')"
      ],
      "execution_count": null,
      "outputs": []
    },
    {
      "cell_type": "code",
      "metadata": {
        "id": "v8TZfMc09HoX"
      },
      "source": [
        "for i in range(len(df_response_json['sTime'])):\n",
        "  df_response_json['sTime'][i] = datetime.fromtimestamp(df_response_json['sTime'][i]).strftime('%Y-%m-%d %H:%M:%S')"
      ],
      "execution_count": null,
      "outputs": []
    },
    {
      "cell_type": "code",
      "metadata": {
        "id": "ZkLDOnMD9Ht3"
      },
      "source": [
        "df_response_json"
      ],
      "execution_count": null,
      "outputs": []
    },
    {
      "cell_type": "code",
      "metadata": {
        "id": "F4cCyA4c9HzI"
      },
      "source": [
        "df_response_json = df_response_json.sort_values('sTime', ascending=True)\n",
        "df_response_json"
      ],
      "execution_count": null,
      "outputs": []
    },
    {
      "cell_type": "code",
      "metadata": {
        "id": "-TWuvkPT9kUX"
      },
      "source": [
        "df_response_json = df_response_json.reset_index(drop=True)\n",
        "df_response_json"
      ],
      "execution_count": null,
      "outputs": []
    },
    {
      "cell_type": "code",
      "metadata": {
        "id": "OcVdUzEj9kyO"
      },
      "source": [
        "df_response_json.to_csv('new_data.csv', mode='w')"
      ],
      "execution_count": null,
      "outputs": []
    },
    {
      "cell_type": "code",
      "metadata": {
        "id": "EMA2xR86942H"
      },
      "source": [
        ""
      ],
      "execution_count": null,
      "outputs": []
    },
    {
      "cell_type": "code",
      "metadata": {
        "id": "6MsTri6t95S3"
      },
      "source": [
        ""
      ],
      "execution_count": null,
      "outputs": []
    }
  ]
}
