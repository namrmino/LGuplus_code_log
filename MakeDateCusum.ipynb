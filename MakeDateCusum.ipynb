{
  "nbformat": 4,
  "nbformat_minor": 0,
  "metadata": {
    "colab": {
      "name": "MakeDateCusum",
      "provenance": [],
      "collapsed_sections": [],
      "authorship_tag": "ABX9TyNdjYes5oDLMx5RfGVjjNMM"
    },
    "kernelspec": {
      "name": "python3",
      "display_name": "Python 3"
    },
    "language_info": {
      "name": "python"
    }
  },
  "cells": [
    {
      "cell_type": "code",
      "metadata": {
        "id": "W2MPoSu8-V3x"
      },
      "source": [
        "# 아파트넘버별로 각 행수가 10개이상인 아파트만 추출\n",
        "ratings_by_date_y = df_jjnam.groupby('apt_no').size()\n",
        "ratings_by_date_y = ratings_by_date_y.index[ratings_by_date_y>=10]\n",
        "ratings_by_date_y = ratings_by_date_y.to_list()\n",
        "len(ratings_by_date_y)\n",
        "\n",
        "qwe = df_jjnam[df_jjnam['apt_no'].isin(ratings_by_date_y)==True]\n",
        "qwe['apt_no'] = qwe['apt_no'].astype('float')\n",
        "qwe['apt_no'] = qwe['apt_no'].astype('int')\n",
        "qwe.groupby('apt_no').size()\n",
        "\n",
        "def MakeDateCusum(df_num):\n",
        "  re_dict = df_num['date_y'].value_counts().to_dict()\n",
        "  \n",
        "  df_num['date_y'] = df_num['date_y'].astype('str')\n",
        "  daterange = pd.DataFrame(pd.date_range(df_num['date_y'][0], df_num['date_y'][len(df_num['date_y'])-1]), columns=['date_y'])\n",
        "  daterange['date_y'] = daterange['date_y'].astype('str')\n",
        "\n",
        "  result1 = pd.merge(daterange, df_num, on='date_y', how='left')\n",
        "  result1 = result1.reset_index(drop = True)\n",
        "  result1['apt_no'] = result1['apt_no'].fillna(result1['apt_no'][0])\n",
        "  result1['cust_no_x'] = result1['cust_no_x'].fillna(result1['cust_no_x'][0])\n",
        "  result1 = result1.drop_duplicates(['date_y','level_2','cust_no_y','apt_nm_y','apt_addr_y','sys_creation_date_y'], keep='first')\n",
        "  result1 = result1.sort_values(by=['date_y'], axis=0)\n",
        "  result1 = result1.reset_index(drop=True)\n",
        "  result1['date_y'] = result1['date_y'].astype('str')\n",
        "  df_num['date_y'] = df_num['date_y'].astype('str')\n",
        "  result1['date_count'] = 0\n",
        "\n",
        "  ddd = list(set(result1['date_y'].unique()))\n",
        "  ddd.sort()\n",
        "  \n",
        "  dict_key_value = {}\n",
        "  aaa = 0\n",
        "  \n",
        "  for temp in ddd:\n",
        "    if temp in list(re_dict.keys()):\n",
        "      aaa += re_dict[temp]\n",
        "      dict_key_value[temp] = aaa\n",
        "    else:\n",
        "      dict_key_value[temp] = aaa\n",
        "      \n",
        "    result1['date_count'] = result1['date_y'].apply(lambda x: dict_key_value[x])\n",
        "    return result1\n",
        "\n",
        "apt_name = [i for i in qwe['apt_no'].unique()]\n",
        "\n",
        "for i in range(len(apt_name)):\n",
        "  apt_name[i] = int(float(apt_name[i]))\n",
        "len(apt_name)\n",
        "\n",
        "# 아파트넘버별 테이블 추출 및 함수 MakeDateCusum & 아파트넘버별 전체 테이블 합치기\n",
        "columns = qwe.columns\n",
        "final = pd.DataFrame(columns=columns)\n",
        "for name in apt_name:\n",
        "  globals()['df_{}'.format(name)] = qwe.loc[qwe['apt_no'].isin([name])] # 각 아파트넘버별로 테이블 추출 : 총 239개\n",
        "  globals()['df_{}'.format(name)] = globals()['df_{}'.format(name)].reset_index(drop=True) # 인덱스 리셋\n",
        "  globals()['df_{}'.format(name)] = MakeDateCusum(globals()['df_{}'.format(name)]) # 날짜별 누적합 함수 돌리기\n",
        "  final = final.append(globals()['df_{}'.format(name)], ignore_index=True) # 아파트넘버별 전체 테이블 합치기\n",
        "  \n",
        "final"
      ],
      "execution_count": null,
      "outputs": []
    }
  ]
}